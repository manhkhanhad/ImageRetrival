{
 "cells": [
  {
   "cell_type": "code",
   "execution_count": 1,
   "metadata": {},
   "outputs": [
    {
     "data": {
      "text/plain": [
       "AffNetFast(\n",
       "  (features): Sequential(\n",
       "    (0): Conv2d(1, 16, kernel_size=(3, 3), stride=(1, 1), padding=(1, 1), bias=False)\n",
       "    (1): BatchNorm2d(16, eps=1e-05, momentum=0.1, affine=False, track_running_stats=True)\n",
       "    (2): ReLU()\n",
       "    (3): Conv2d(16, 16, kernel_size=(3, 3), stride=(1, 1), padding=(1, 1), bias=False)\n",
       "    (4): BatchNorm2d(16, eps=1e-05, momentum=0.1, affine=False, track_running_stats=True)\n",
       "    (5): ReLU()\n",
       "    (6): Conv2d(16, 32, kernel_size=(3, 3), stride=(2, 2), padding=(1, 1), bias=False)\n",
       "    (7): BatchNorm2d(32, eps=1e-05, momentum=0.1, affine=False, track_running_stats=True)\n",
       "    (8): ReLU()\n",
       "    (9): Conv2d(32, 32, kernel_size=(3, 3), stride=(1, 1), padding=(1, 1), bias=False)\n",
       "    (10): BatchNorm2d(32, eps=1e-05, momentum=0.1, affine=False, track_running_stats=True)\n",
       "    (11): ReLU()\n",
       "    (12): Conv2d(32, 64, kernel_size=(3, 3), stride=(2, 2), padding=(1, 1), bias=False)\n",
       "    (13): BatchNorm2d(64, eps=1e-05, momentum=0.1, affine=False, track_running_stats=True)\n",
       "    (14): ReLU()\n",
       "    (15): Conv2d(64, 64, kernel_size=(3, 3), stride=(1, 1), padding=(1, 1), bias=False)\n",
       "    (16): BatchNorm2d(64, eps=1e-05, momentum=0.1, affine=False, track_running_stats=True)\n",
       "    (17): ReLU()\n",
       "    (18): Dropout(p=0.0, inplace=False)\n",
       "    (19): Conv2d(64, 3, kernel_size=(8, 8), stride=(1, 1))\n",
       "    (20): Tanh()\n",
       "    (21): AdaptiveAvgPool2d(output_size=1)\n",
       "  )\n",
       ")"
      ]
     },
     "execution_count": 1,
     "metadata": {},
     "output_type": "execute_result"
    }
   ],
   "source": [
    "import torch\n",
    "import torch.nn as nn\n",
    "import torch.nn.functional as F\n",
    "\n",
    "class AffNetFast(nn.Module):\n",
    "    def __init__(self):\n",
    "        super(AffNetFast, self).__init__()\n",
    "        self.features = nn.Sequential(\n",
    "            nn.Conv2d(1, 16, kernel_size=3, padding=1, bias = False),\n",
    "            nn.BatchNorm2d(16, affine=False),\n",
    "            nn.ReLU(),\n",
    "            nn.Conv2d(16, 16, kernel_size=3, stride=1, padding=1, bias = False),\n",
    "            nn.BatchNorm2d(16, affine=False),\n",
    "            nn.ReLU(),\n",
    "            nn.Conv2d(16, 32, kernel_size=3, stride=2, padding=1, bias = False),\n",
    "            nn.BatchNorm2d(32, affine=False),\n",
    "            nn.ReLU(),\n",
    "            nn.Conv2d(32, 32, kernel_size=3, stride=1, padding=1, bias = False),\n",
    "            nn.BatchNorm2d(32, affine=False),\n",
    "            nn.ReLU(),\n",
    "            nn.Conv2d(32, 64, kernel_size=3, stride=2, padding=1, bias = False),\n",
    "            nn.BatchNorm2d(64, affine=False),\n",
    "            nn.ReLU(),\n",
    "            nn.Conv2d(64, 64, kernel_size=3, stride=1, padding=1, bias = False),\n",
    "            nn.BatchNorm2d(64, affine=False),\n",
    "            nn.ReLU(),\n",
    "            nn.Dropout(0.),\n",
    "            nn.Conv2d(64, 3, kernel_size=8, stride=1, padding=0, bias = True),\n",
    "            nn.Tanh(),\n",
    "            nn.AdaptiveAvgPool2d(1)\n",
    "        )\n",
    "        self.register_buffer('const', torch.tensor([[1.,0.,1.]],dtype=torch.float).view(1,3) )\n",
    "        return\n",
    "    def forward(self, input):\n",
    "        xy = self.features(self.input_norm(input)).view(-1,3);\n",
    "        xy = xy + self.const\n",
    "        return xy\n",
    "\n",
    "    def input_norm(self,x):\n",
    "        std, mean = torch.std_mean(x, dim=[2,3])\n",
    "        return (x - mean.detach()[...,None,None]) / (std.detach()[...,None,None]+1e-7)\n",
    "\n",
    "\n",
    "model = AffNetFast()\n",
    "checkpoint = '../pretrained/AffNet.pth'\n",
    "model.load_state_dict(torch.load(checkpoint, map_location=torch.device('cpu'))['state_dict'],strict=False)\n",
    "model.eval()"
   ]
  },
  {
   "cell_type": "code",
   "execution_count": 2,
   "metadata": {
    "scrolled": false
   },
   "outputs": [],
   "source": [
    "#Converting to JIT\n",
    "example = torch.rand(1,1,32,32)\n",
    "traced_script_module = torch.jit.trace(model, example)\n",
    "traced_script_module.save(\"AffNetJIT.pt\")"
   ]
  },
  {
   "cell_type": "code",
   "execution_count": 3,
   "metadata": {},
   "outputs": [
    {
     "name": "stdout",
     "output_type": "stream",
     "text": [
      "tensor([[0., 0., 0.]], grad_fn=<SubBackward0>)\n"
     ]
    }
   ],
   "source": [
    "#Checking if this works properly\n",
    "inp1 = torch.rand(1, 1, 32, 32)\n",
    "out_jit = traced_script_module(inp1)\n",
    "out_pytorch = model(inp1)\n",
    "print (out_jit - out_pytorch)"
   ]
  },
  {
   "cell_type": "code",
   "execution_count": 4,
   "metadata": {},
   "outputs": [],
   "source": [
    "class OriNetFast(nn.Module):\n",
    "    def __init__(self):\n",
    "        super(OriNetFast, self).__init__()\n",
    "        self.features = nn.Sequential(\n",
    "            nn.Conv2d(1, 16, kernel_size=3, padding=1, bias = False),\n",
    "            nn.BatchNorm2d(16, affine=False),\n",
    "            nn.ReLU(),\n",
    "            nn.Conv2d(16, 16, kernel_size=3, stride=1, padding=1, bias = False),\n",
    "            nn.BatchNorm2d(16, affine=False),\n",
    "            nn.ReLU(),\n",
    "            nn.Conv2d(16, 32, kernel_size=3, stride=2, padding=1, bias = False),\n",
    "            nn.BatchNorm2d(32, affine=False),\n",
    "            nn.ReLU(),\n",
    "            nn.Conv2d(32, 32, kernel_size=3, stride=1, padding=1, bias = False),\n",
    "            nn.BatchNorm2d(32, affine=False),\n",
    "            nn.ReLU(),\n",
    "            nn.Conv2d(32, 64, kernel_size=3, stride=2, padding=1, bias = False),\n",
    "            nn.BatchNorm2d(64, affine=False),\n",
    "            nn.ReLU(),\n",
    "            nn.Conv2d(64, 64, kernel_size=3, stride=1, padding=1, bias = False),\n",
    "            nn.BatchNorm2d(64, affine=False),\n",
    "            nn.ReLU(),\n",
    "            nn.Dropout(0.25),\n",
    "            nn.Conv2d(64, 2, kernel_size=8, stride=1,padding=1, bias = True),\n",
    "            nn.Tanh(),\n",
    "            nn.AdaptiveAvgPool2d(1)\n",
    "        )\n",
    "        return\n",
    "    def input_norm(self,x):\n",
    "        std, mean = torch.std_mean(x, dim=[2,3])\n",
    "        return (x - mean.detach()[...,None,None]) / (std.detach()[...,None,None]+1e-7)\n",
    "    def forward(self, input):\n",
    "        xy = self.features(self.input_norm(input)).view(-1,2) \n",
    "        return xy"
   ]
  },
  {
   "cell_type": "code",
   "execution_count": 5,
   "metadata": {},
   "outputs": [],
   "source": [
    "model = OriNetFast()\n",
    "checkpoint = '../pretrained/OriNet.pth'\n",
    "model.load_state_dict(torch.load(checkpoint, map_location=torch.device('cpu'))['state_dict'])\n",
    "model.eval()\n",
    "\n",
    "#Converting to JIT\n",
    "example = torch.rand(1,1,32,32)\n",
    "traced_script_module = torch.jit.trace(model, example)\n",
    "traced_script_module.save(\"OriNetJIT.pt\")"
   ]
  }
 ],
 "metadata": {
  "kernelspec": {
   "display_name": "Python 3",
   "language": "python",
   "name": "python3"
  },
  "language_info": {
   "codemirror_mode": {
    "name": "ipython",
    "version": 3
   },
   "file_extension": ".py",
   "mimetype": "text/x-python",
   "name": "python",
   "nbconvert_exporter": "python",
   "pygments_lexer": "ipython3",
   "version": "3.7.4"
  }
 },
 "nbformat": 4,
 "nbformat_minor": 2
}
